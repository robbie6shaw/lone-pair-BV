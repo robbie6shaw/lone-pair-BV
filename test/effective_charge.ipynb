{
 "cells": [
  {
   "cell_type": "code",
   "execution_count": 1,
   "metadata": {},
   "outputs": [],
   "source": [
    "import pandas as pd\n",
    "import math\n",
    "import numpy as np\n",
    "from calculate import *\n",
    "from fileIO import *"
   ]
  },
  {
   "cell_type": "code",
   "execution_count": 2,
   "metadata": {},
   "outputs": [
    {
     "ename": "AttributeError",
     "evalue": "'BVStructure' object has no attribute 'db'",
     "output_type": "error",
     "traceback": [
      "\u001b[0;31m---------------------------------------------------------------------------\u001b[0m",
      "\u001b[0;31mAttributeError\u001b[0m                            Traceback (most recent call last)",
      "\u001b[1;32m/home/rs/bv-project/effective_charge.ipynb Cell 2\u001b[0m line \u001b[0;36m1\n\u001b[0;32m----> <a href='vscode-notebook-cell://wsl%2Bubuntu-20.04/home/rs/bv-project/effective_charge.ipynb#W1sdnNjb2RlLXJlbW90ZQ%3D%3D?line=0'>1</a>\u001b[0m pbsnf4 \u001b[39m=\u001b[39m BVStructure\u001b[39m.\u001b[39mfrom_file(\u001b[39m'\u001b[39m\u001b[39mresults/PbSnF4/PbSnF4.inp\u001b[39m\u001b[39m'\u001b[39m, bvse\u001b[39m=\u001b[39m\u001b[39mTrue\u001b[39;00m)\n",
      "File \u001b[0;32m~/bv-project/bv2.py:82\u001b[0m, in \u001b[0;36mBVStructure.from_file\u001b[0;34m(cls, fileName, bvse)\u001b[0m\n\u001b[1;32m     80\u001b[0m contents \u001b[39m=\u001b[39m f\u001b[39m.\u001b[39mread()\n\u001b[1;32m     81\u001b[0m \u001b[39mif\u001b[39;00m \u001b[39mlen\u001b[39m(contents) \u001b[39m>\u001b[39m \u001b[39m5\u001b[39m: \n\u001b[0;32m---> 82\u001b[0m     \u001b[39mreturn\u001b[39;00m BVStructure(contents, bvse \u001b[39m=\u001b[39m bvse)     \n\u001b[1;32m     83\u001b[0m \u001b[39melse\u001b[39;00m: \n\u001b[1;32m     84\u001b[0m     logging\u001b[39m.\u001b[39mfatal(\u001b[39mf\u001b[39m\u001b[39m\"\u001b[39m\u001b[39mThe file at \u001b[39m\u001b[39m{\u001b[39;00mfileName\u001b[39m}\u001b[39;00m\u001b[39m was malformed. Quitting.\u001b[39m\u001b[39m\"\u001b[39m)\n",
      "File \u001b[0;32m~/bv-project/bv2.py:58\u001b[0m, in \u001b[0;36mBVStructure.__init__\u001b[0;34m(self, inputStr, bvse)\u001b[0m\n\u001b[1;32m     55\u001b[0m     data \u001b[39m=\u001b[39m lines[i]\u001b[39m.\u001b[39msplit(\u001b[39m\"\u001b[39m\u001b[39m\\t\u001b[39;00m\u001b[39m\"\u001b[39m)\n\u001b[1;32m     56\u001b[0m     \u001b[39mself\u001b[39m\u001b[39m.\u001b[39msites\u001b[39m.\u001b[39mloc[data[\u001b[39m1\u001b[39m]] \u001b[39m=\u001b[39m [data[\u001b[39m0\u001b[39m], Ion(data[\u001b[39m2\u001b[39m], \u001b[39mround\u001b[39m(\u001b[39mfloat\u001b[39m(data[\u001b[39m3\u001b[39m]))), \u001b[39mround\u001b[39m(\u001b[39mfloat\u001b[39m(data[\u001b[39m3\u001b[39m])), \u001b[39mbool\u001b[39m(\u001b[39mint\u001b[39m(data[\u001b[39m4\u001b[39m])), np\u001b[39m.\u001b[39marray((\u001b[39mfloat\u001b[39m(data[\u001b[39m5\u001b[39m]), \u001b[39mfloat\u001b[39m(data[\u001b[39m6\u001b[39m]), \u001b[39mfloat\u001b[39m(data[\u001b[39m7\u001b[39m])))]\n\u001b[0;32m---> 58\u001b[0m \u001b[39mself\u001b[39m\u001b[39m.\u001b[39mchargeList \u001b[39m=\u001b[39m \u001b[39mself\u001b[39m\u001b[39m.\u001b[39mfind_effective_charges()\n\u001b[1;32m     60\u001b[0m logging\u001b[39m.\u001b[39mdebug(\u001b[39mself\u001b[39m\u001b[39m.\u001b[39msites)\n\u001b[1;32m     62\u001b[0m \u001b[39m# Get the needed bond valence parameters from the database\u001b[39;00m\n",
      "File \u001b[0;32m~/bv-project/bv2.py:693\u001b[0m, in \u001b[0;36mBVStructure.find_effective_charges\u001b[0;34m(self)\u001b[0m\n\u001b[1;32m    690\u001b[0m chargeDf \u001b[39m=\u001b[39m pd\u001b[39m.\u001b[39mDataFrame(columns\u001b[39m=\u001b[39m[\u001b[39m\"\u001b[39m\u001b[39mV\u001b[39m\u001b[39m\"\u001b[39m,\u001b[39m\"\u001b[39m\u001b[39mn\u001b[39m\u001b[39m\"\u001b[39m,\u001b[39m\"\u001b[39m\u001b[39mN\u001b[39m\u001b[39m\"\u001b[39m])\n\u001b[1;32m    692\u001b[0m \u001b[39mfor\u001b[39;00m ion, N \u001b[39min\u001b[39;00m \u001b[39mself\u001b[39m\u001b[39m.\u001b[39msites\u001b[39m.\u001b[39mgroupby(\u001b[39m\"\u001b[39m\u001b[39mion\u001b[39m\u001b[39m\"\u001b[39m, sort\u001b[39m=\u001b[39m\u001b[39mFalse\u001b[39;00m)\u001b[39m.\u001b[39msize()\u001b[39m.\u001b[39mitems():\n\u001b[0;32m--> 693\u001b[0m     chargeDf\u001b[39m.\u001b[39mloc[ion] \u001b[39m=\u001b[39m [ion\u001b[39m.\u001b[39mox_state, \u001b[39mself\u001b[39m\u001b[39m.\u001b[39mdb\u001b[39m.\u001b[39mget_period(ion), N]\n\u001b[1;32m    695\u001b[0m chargeDf[\u001b[39m\"\u001b[39m\u001b[39mpart\u001b[39m\u001b[39m\"\u001b[39m] \u001b[39m=\u001b[39m chargeDf[\u001b[39m\"\u001b[39m\u001b[39mV\u001b[39m\u001b[39m\"\u001b[39m] \u001b[39m*\u001b[39m chargeDf[\u001b[39m\"\u001b[39m\u001b[39mN\u001b[39m\u001b[39m\"\u001b[39m] \u001b[39m/\u001b[39m np\u001b[39m.\u001b[39msqrt(chargeDf[\u001b[39m\"\u001b[39m\u001b[39mn\u001b[39m\u001b[39m\"\u001b[39m])\n\u001b[1;32m    697\u001b[0m anionSum \u001b[39m=\u001b[39m chargeDf[chargeDf[\u001b[39m\"\u001b[39m\u001b[39mV\u001b[39m\u001b[39m\"\u001b[39m] \u001b[39m<\u001b[39m \u001b[39m0\u001b[39m][\u001b[39m\"\u001b[39m\u001b[39mpart\u001b[39m\u001b[39m\"\u001b[39m]\u001b[39m.\u001b[39msum()\n",
      "\u001b[0;31mAttributeError\u001b[0m: 'BVStructure' object has no attribute 'db'"
     ]
    }
   ],
   "source": [
    "pbsnf4 = BVStructure.from_file('results/PbSnF4/PbSnF4.inp', bvse=True)"
   ]
  },
  {
   "cell_type": "code",
   "execution_count": 3,
   "metadata": {},
   "outputs": [],
   "source": [
    "chargeDf = pd.DataFrame(columns=[\"V\",\"n\",\"N\"])"
   ]
  },
  {
   "cell_type": "code",
   "execution_count": 4,
   "metadata": {},
   "outputs": [
    {
     "data": {
      "text/html": [
       "<div>\n",
       "<style scoped>\n",
       "    .dataframe tbody tr th:only-of-type {\n",
       "        vertical-align: middle;\n",
       "    }\n",
       "\n",
       "    .dataframe tbody tr th {\n",
       "        vertical-align: top;\n",
       "    }\n",
       "\n",
       "    .dataframe thead th {\n",
       "        text-align: right;\n",
       "    }\n",
       "</style>\n",
       "<table border=\"1\" class=\"dataframe\">\n",
       "  <thead>\n",
       "    <tr style=\"text-align: right;\">\n",
       "      <th></th>\n",
       "      <th>label</th>\n",
       "      <th>ion</th>\n",
       "      <th>ox_state</th>\n",
       "      <th>lp</th>\n",
       "      <th>coords</th>\n",
       "    </tr>\n",
       "  </thead>\n",
       "  <tbody>\n",
       "    <tr>\n",
       "      <th>Sn1.0</th>\n",
       "      <td>Sn1</td>\n",
       "      <td>Sn2+</td>\n",
       "      <td>2</td>\n",
       "      <td>True</td>\n",
       "      <td>[3.173535, 3.1735349999999998, 1.5208391990000...</td>\n",
       "    </tr>\n",
       "    <tr>\n",
       "      <th>Sn1.1</th>\n",
       "      <td>Sn1</td>\n",
       "      <td>Sn2+</td>\n",
       "      <td>2</td>\n",
       "      <td>True</td>\n",
       "      <td>[1.0578450000000001, 1.057845, 9.905450801]</td>\n",
       "    </tr>\n",
       "    <tr>\n",
       "      <th>Pb1.0</th>\n",
       "      <td>Pb1</td>\n",
       "      <td>Pb2+</td>\n",
       "      <td>2</td>\n",
       "      <td>True</td>\n",
       "      <td>[3.173535, 3.1735349999999998, 7.116293412]</td>\n",
       "    </tr>\n",
       "    <tr>\n",
       "      <th>Pb1.1</th>\n",
       "      <td>Pb1</td>\n",
       "      <td>Pb2+</td>\n",
       "      <td>2</td>\n",
       "      <td>True</td>\n",
       "      <td>[1.0578450000000001, 1.057845, 4.309996588]</td>\n",
       "    </tr>\n",
       "    <tr>\n",
       "      <th>F1.0</th>\n",
       "      <td>F1</td>\n",
       "      <td>F-</td>\n",
       "      <td>-1</td>\n",
       "      <td>False</td>\n",
       "      <td>[3.1735349999999998, 1.057845, 8.950212957]</td>\n",
       "    </tr>\n",
       "    <tr>\n",
       "      <th>F1.1</th>\n",
       "      <td>F1</td>\n",
       "      <td>F-</td>\n",
       "      <td>-1</td>\n",
       "      <td>False</td>\n",
       "      <td>[1.0578450000000004, 3.1735349999999998, 8.950...</td>\n",
       "    </tr>\n",
       "    <tr>\n",
       "      <th>F1.2</th>\n",
       "      <td>F1</td>\n",
       "      <td>F-</td>\n",
       "      <td>-1</td>\n",
       "      <td>False</td>\n",
       "      <td>[1.0578450000000004, 3.1735349999999998, 2.476...</td>\n",
       "    </tr>\n",
       "    <tr>\n",
       "      <th>F1.3</th>\n",
       "      <td>F1</td>\n",
       "      <td>F-</td>\n",
       "      <td>-1</td>\n",
       "      <td>False</td>\n",
       "      <td>[3.1735349999999998, 1.057845, 2.4760770430000...</td>\n",
       "    </tr>\n",
       "    <tr>\n",
       "      <th>F2.0</th>\n",
       "      <td>F2</td>\n",
       "      <td>F-</td>\n",
       "      <td>-1</td>\n",
       "      <td>False</td>\n",
       "      <td>[3.1735349999999998, 1.057845, 5.713145]</td>\n",
       "    </tr>\n",
       "    <tr>\n",
       "      <th>F2.1</th>\n",
       "      <td>F2</td>\n",
       "      <td>F-</td>\n",
       "      <td>-1</td>\n",
       "      <td>False</td>\n",
       "      <td>[1.0578450000000004, 3.1735349999999998, 5.713...</td>\n",
       "    </tr>\n",
       "    <tr>\n",
       "      <th>F3.0</th>\n",
       "      <td>F3</td>\n",
       "      <td>F-</td>\n",
       "      <td>-1</td>\n",
       "      <td>False</td>\n",
       "      <td>[3.173535, 3.1735349999999998, 3.583284544]</td>\n",
       "    </tr>\n",
       "    <tr>\n",
       "      <th>F3.1</th>\n",
       "      <td>F3</td>\n",
       "      <td>F-</td>\n",
       "      <td>-1</td>\n",
       "      <td>False</td>\n",
       "      <td>[1.0578450000000001, 1.057845, 7.843005456]</td>\n",
       "    </tr>\n",
       "  </tbody>\n",
       "</table>\n",
       "</div>"
      ],
      "text/plain": [
       "      label   ion  ox_state     lp  \\\n",
       "Sn1.0   Sn1  Sn2+         2   True   \n",
       "Sn1.1   Sn1  Sn2+         2   True   \n",
       "Pb1.0   Pb1  Pb2+         2   True   \n",
       "Pb1.1   Pb1  Pb2+         2   True   \n",
       "F1.0     F1    F-        -1  False   \n",
       "F1.1     F1    F-        -1  False   \n",
       "F1.2     F1    F-        -1  False   \n",
       "F1.3     F1    F-        -1  False   \n",
       "F2.0     F2    F-        -1  False   \n",
       "F2.1     F2    F-        -1  False   \n",
       "F3.0     F3    F-        -1  False   \n",
       "F3.1     F3    F-        -1  False   \n",
       "\n",
       "                                                  coords  \n",
       "Sn1.0  [3.173535, 3.1735349999999998, 1.5208391990000...  \n",
       "Sn1.1        [1.0578450000000001, 1.057845, 9.905450801]  \n",
       "Pb1.0        [3.173535, 3.1735349999999998, 7.116293412]  \n",
       "Pb1.1        [1.0578450000000001, 1.057845, 4.309996588]  \n",
       "F1.0         [3.1735349999999998, 1.057845, 8.950212957]  \n",
       "F1.1   [1.0578450000000004, 3.1735349999999998, 8.950...  \n",
       "F1.2   [1.0578450000000004, 3.1735349999999998, 2.476...  \n",
       "F1.3   [3.1735349999999998, 1.057845, 2.4760770430000...  \n",
       "F2.0            [3.1735349999999998, 1.057845, 5.713145]  \n",
       "F2.1   [1.0578450000000004, 3.1735349999999998, 5.713...  \n",
       "F3.0         [3.173535, 3.1735349999999998, 3.583284544]  \n",
       "F3.1         [1.0578450000000001, 1.057845, 7.843005456]  "
      ]
     },
     "execution_count": 4,
     "metadata": {},
     "output_type": "execute_result"
    }
   ],
   "source": [
    "pbsnf4.sites"
   ]
  },
  {
   "cell_type": "code",
   "execution_count": 5,
   "metadata": {},
   "outputs": [],
   "source": [
    "\n",
    "for ion, N in pbsnf4.sites.groupby(\"ion\", sort=False).size().items():\n",
    "    chargeDf.loc[ion] = [ion.ox_state, pbsnf4.db.get_period(ion), N] "
   ]
  },
  {
   "cell_type": "code",
   "execution_count": 6,
   "metadata": {},
   "outputs": [
    {
     "data": {
      "text/html": [
       "<div>\n",
       "<style scoped>\n",
       "    .dataframe tbody tr th:only-of-type {\n",
       "        vertical-align: middle;\n",
       "    }\n",
       "\n",
       "    .dataframe tbody tr th {\n",
       "        vertical-align: top;\n",
       "    }\n",
       "\n",
       "    .dataframe thead th {\n",
       "        text-align: right;\n",
       "    }\n",
       "</style>\n",
       "<table border=\"1\" class=\"dataframe\">\n",
       "  <thead>\n",
       "    <tr style=\"text-align: right;\">\n",
       "      <th></th>\n",
       "      <th>V</th>\n",
       "      <th>n</th>\n",
       "      <th>N</th>\n",
       "    </tr>\n",
       "  </thead>\n",
       "  <tbody>\n",
       "    <tr>\n",
       "      <th>Sn2+</th>\n",
       "      <td>2</td>\n",
       "      <td>5</td>\n",
       "      <td>2</td>\n",
       "    </tr>\n",
       "    <tr>\n",
       "      <th>Pb2+</th>\n",
       "      <td>2</td>\n",
       "      <td>6</td>\n",
       "      <td>2</td>\n",
       "    </tr>\n",
       "    <tr>\n",
       "      <th>F-</th>\n",
       "      <td>-1</td>\n",
       "      <td>2</td>\n",
       "      <td>8</td>\n",
       "    </tr>\n",
       "  </tbody>\n",
       "</table>\n",
       "</div>"
      ],
      "text/plain": [
       "      V  n  N\n",
       "Sn2+  2  5  2\n",
       "Pb2+  2  6  2\n",
       "F-   -1  2  8"
      ]
     },
     "execution_count": 6,
     "metadata": {},
     "output_type": "execute_result"
    }
   ],
   "source": [
    "chargeDf"
   ]
  },
  {
   "cell_type": "code",
   "execution_count": 8,
   "metadata": {},
   "outputs": [],
   "source": [
    "chargeDf[\"part\"] = chargeDf[\"V\"] * chargeDf[\"N\"] / np.sqrt(chargeDf[\"n\"])"
   ]
  },
  {
   "cell_type": "code",
   "execution_count": 9,
   "metadata": {},
   "outputs": [
    {
     "data": {
      "text/html": [
       "<div>\n",
       "<style scoped>\n",
       "    .dataframe tbody tr th:only-of-type {\n",
       "        vertical-align: middle;\n",
       "    }\n",
       "\n",
       "    .dataframe tbody tr th {\n",
       "        vertical-align: top;\n",
       "    }\n",
       "\n",
       "    .dataframe thead th {\n",
       "        text-align: right;\n",
       "    }\n",
       "</style>\n",
       "<table border=\"1\" class=\"dataframe\">\n",
       "  <thead>\n",
       "    <tr style=\"text-align: right;\">\n",
       "      <th></th>\n",
       "      <th>V</th>\n",
       "      <th>n</th>\n",
       "      <th>N</th>\n",
       "      <th>part</th>\n",
       "    </tr>\n",
       "  </thead>\n",
       "  <tbody>\n",
       "    <tr>\n",
       "      <th>Sn2+</th>\n",
       "      <td>2</td>\n",
       "      <td>5</td>\n",
       "      <td>2</td>\n",
       "      <td>1.788854</td>\n",
       "    </tr>\n",
       "    <tr>\n",
       "      <th>Pb2+</th>\n",
       "      <td>2</td>\n",
       "      <td>6</td>\n",
       "      <td>2</td>\n",
       "      <td>1.632993</td>\n",
       "    </tr>\n",
       "    <tr>\n",
       "      <th>F-</th>\n",
       "      <td>-1</td>\n",
       "      <td>2</td>\n",
       "      <td>8</td>\n",
       "      <td>-5.656854</td>\n",
       "    </tr>\n",
       "  </tbody>\n",
       "</table>\n",
       "</div>"
      ],
      "text/plain": [
       "      V  n  N      part\n",
       "Sn2+  2  5  2  1.788854\n",
       "Pb2+  2  6  2  1.632993\n",
       "F-   -1  2  8 -5.656854"
      ]
     },
     "execution_count": 9,
     "metadata": {},
     "output_type": "execute_result"
    }
   ],
   "source": [
    "chargeDf"
   ]
  },
  {
   "cell_type": "code",
   "execution_count": 12,
   "metadata": {},
   "outputs": [
    {
     "data": {
      "text/plain": [
       "3.421847543855284"
      ]
     },
     "execution_count": 12,
     "metadata": {},
     "output_type": "execute_result"
    }
   ],
   "source": [
    "chargeDf[chargeDf[\"V\"] > 0][\"part\"].sum()"
   ]
  }
 ],
 "metadata": {
  "kernelspec": {
   "display_name": "bv-project",
   "language": "python",
   "name": "python3"
  },
  "language_info": {
   "codemirror_mode": {
    "name": "ipython",
    "version": 3
   },
   "file_extension": ".py",
   "mimetype": "text/x-python",
   "name": "python",
   "nbconvert_exporter": "python",
   "pygments_lexer": "ipython3",
   "version": "3.1.-1"
  }
 },
 "nbformat": 4,
 "nbformat_minor": 2
}
